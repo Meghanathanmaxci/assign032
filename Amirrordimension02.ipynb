{
 "cells": [
  {
   "cell_type": "markdown",
   "id": "285eef4c",
   "metadata": {},
   "source": [
    "# Q) WPP that accepts a word from the user and reverse it.\n",
    " # Input : Edyoda\n",
    "   # Output : adoydE"
   ]
  },
  {
   "cell_type": "code",
   "execution_count": 2,
   "id": "f429daa2",
   "metadata": {},
   "outputs": [
    {
     "name": "stdout",
     "output_type": "stream",
     "text": [
      "enter the sentence : Edyoda\n",
      "adoydE\n"
     ]
    }
   ],
   "source": [
    "str = input('enter the sentence : ')\n",
    "words = str.split()\n",
    "rev_str = []\n",
    "for i in words:\n",
    "    rev_str.append(i[::-1])\n",
    "    sen = ' '.join(rev_str)\n",
    "print(sen)\n"
   ]
  },
  {
   "cell_type": "raw",
   "id": "e8689b28",
   "metadata": {},
   "source": []
  }
 ],
 "metadata": {
  "kernelspec": {
   "display_name": "Python 3 (ipykernel)",
   "language": "python",
   "name": "python3"
  },
  "language_info": {
   "codemirror_mode": {
    "name": "ipython",
    "version": 3
   },
   "file_extension": ".py",
   "mimetype": "text/x-python",
   "name": "python",
   "nbconvert_exporter": "python",
   "pygments_lexer": "ipython3",
   "version": "3.10.0"
  }
 },
 "nbformat": 4,
 "nbformat_minor": 5
}
